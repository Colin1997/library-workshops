{
 "cells": [
  {
   "cell_type": "markdown",
   "metadata": {},
   "source": [
    "# Intro to Python"
   ]
  },
  {
   "cell_type": "markdown",
   "metadata": {},
   "source": [
    "# Variables in Python\n",
    "Variables in programming languages hold values.\n",
    "* In Python a single `=` (equals sign) assigns the value on the right to the name of the variable on the left.\n",
    "* Variables are created when a value is assigned to it.\n",
    "* In the code block below, Python assigns the numerical value `42` to a variable called `age`"
   ]
  },
  {
   "cell_type": "markdown",
   "metadata": {},
   "source": [
    "##### Creating variables"
   ]
  },
  {
   "cell_type": "code",
   "execution_count": 19,
   "metadata": {},
   "outputs": [],
   "source": [
    "helpful_articles = 42\n",
    "library = \"Cushing/Whitney Medical Library\""
   ]
  },
  {
   "cell_type": "markdown",
   "metadata": {},
   "source": [
    "##### Rules for creating variables\n",
    "* Variable names can only contain letters, digits, and underscores `_`\n",
    "* Variable names cannot start with a digit\n",
    "* Variable names are case sensitive (`library`, `Library`, and `LIBRARY`) are three different variables"
   ]
  },
  {
   "cell_type": "markdown",
   "metadata": {},
   "source": [
    "##### Use `print` to display values\n",
    "* `print` is a Python function used to read-out, display, or \"print out\" the value stored within a variable name.\n",
    "* Function in python look like this, `print()`, where the function name is followed by a set of parentheses. \n",
    "* You will provide values to the function within the parentheses. These values can also be called \"arguments\".\n",
    "* In the case of print, the values that are fed into the parentheses are the items you want to display, or print.\n",
    "* You can print the values of variables, strings, or digits.\n",
    "* You can also print multiple values in one print statement"
   ]
  },
  {
   "cell_type": "code",
   "execution_count": 20,
   "metadata": {},
   "outputs": [
    {
     "name": "stdout",
     "output_type": "stream",
     "text": [
      "42\n"
     ]
    }
   ],
   "source": [
    "print(helpful_articles)"
   ]
  },
  {
   "cell_type": "code",
   "execution_count": 21,
   "metadata": {},
   "outputs": [
    {
     "name": "stdout",
     "output_type": "stream",
     "text": [
      "102.0\n"
     ]
    }
   ],
   "source": [
    "print(100 + 2 / 3 * 3)"
   ]
  },
  {
   "cell_type": "code",
   "execution_count": 22,
   "metadata": {},
   "outputs": [
    {
     "name": "stdout",
     "output_type": "stream",
     "text": [
      "String is another word for text\n"
     ]
    }
   ],
   "source": [
    "print(\"String is another word for text\")"
   ]
  },
  {
   "cell_type": "code",
   "execution_count": 23,
   "metadata": {},
   "outputs": [
    {
     "ename": "SyntaxError",
     "evalue": "invalid syntax (<ipython-input-23-c0a89e8aae61>, line 1)",
     "output_type": "error",
     "traceback": [
      "\u001b[0;36m  File \u001b[0;32m\"<ipython-input-23-c0a89e8aae61>\"\u001b[0;36m, line \u001b[0;32m1\u001b[0m\n\u001b[0;31m    print(String is another word for text)\u001b[0m\n\u001b[0m                               ^\u001b[0m\n\u001b[0;31mSyntaxError\u001b[0m\u001b[0;31m:\u001b[0m invalid syntax\n"
     ]
    }
   ],
   "source": [
    "print(String is another word for text)"
   ]
  },
  {
   "cell_type": "code",
   "execution_count": 24,
   "metadata": {},
   "outputs": [
    {
     "name": "stdout",
     "output_type": "stream",
     "text": [
      "The Cushing/Whitney Medical Library is my favorite library\n"
     ]
    }
   ],
   "source": [
    "print(\"The\", library, \"is my favorite library\")"
   ]
  },
  {
   "cell_type": "markdown",
   "metadata": {},
   "source": [
    "##### Using variables within calculations"
   ]
  },
  {
   "cell_type": "code",
   "execution_count": 26,
   "metadata": {},
   "outputs": [
    {
     "name": "stdout",
     "output_type": "stream",
     "text": [
      "48\n"
     ]
    }
   ],
   "source": [
    "helpful_articles = helpful_articles + 3\n",
    "print(helpful_articles)"
   ]
  },
  {
   "cell_type": "markdown",
   "metadata": {},
   "source": [
    "##### Use an index to get a single character from a string\n",
    "* The characters within a string are ordered. For example, the string `AB` is not the same as the string `BA`."
   ]
  },
  {
   "cell_type": "markdown",
   "metadata": {},
   "source": [
    "##### Updating Variables\n",
    "* Python operates from top to bottom.\n",
    "* The value held in second will not be updated to reflect that `first = 2`, because we are not reassigning the variable"
   ]
  },
  {
   "cell_type": "code",
   "execution_count": 61,
   "metadata": {},
   "outputs": [
    {
     "name": "stdout",
     "output_type": "stream",
     "text": [
      "first is: 2 and second is: 5\n"
     ]
    }
   ],
   "source": [
    "first = 1\n",
    "second = 5 * first\n",
    "first = 2\n",
    "print('first is:', first, 'and second is:', second)"
   ]
  },
  {
   "cell_type": "markdown",
   "metadata": {},
   "source": [
    "### <font color = green> Break here for 10 minutes to complete exercises.</font>"
   ]
  },
  {
   "cell_type": "markdown",
   "metadata": {},
   "source": [
    "# Data Types in Python\n",
    "* Every value in a program has a specific type.\n",
    "* Integer(`int`): represents positive or negative whole numbers like 3 or -15.\n",
    "* Floating point (`float`): (i.e. decimal point): represents real numbers like 3.14159 or -2.5.\n",
    "* Character string (`str`): text.\n",
    "    * Written in either single quotations marks or double quotation marks (`\"\"` or `''`)\n",
    "    * The quotation marks are not printed when the string is displayed\n",
    "    \n",
    "##### Use the `type` function to find the type of a value\n",
    "* `type` workes on values and the values of variables"
   ]
  },
  {
   "cell_type": "code",
   "execution_count": 32,
   "metadata": {},
   "outputs": [
    {
     "name": "stdout",
     "output_type": "stream",
     "text": [
      "<class 'int'>\n"
     ]
    }
   ],
   "source": [
    "print(type(52))"
   ]
  },
  {
   "cell_type": "code",
   "execution_count": 33,
   "metadata": {},
   "outputs": [
    {
     "name": "stdout",
     "output_type": "stream",
     "text": [
      "<class 'str'>\n"
     ]
    }
   ],
   "source": [
    "print(type(\"some words\"))"
   ]
  },
  {
   "cell_type": "code",
   "execution_count": 34,
   "metadata": {},
   "outputs": [
    {
     "name": "stdout",
     "output_type": "stream",
     "text": [
      "penny for your thoughts\n",
      "<class 'str'>\n"
     ]
    }
   ],
   "source": [
    "message = \"penny for your thoughts\"\n",
    "print(message)\n",
    "print(type(message))"
   ]
  },
  {
   "cell_type": "code",
   "execution_count": 35,
   "metadata": {},
   "outputs": [
    {
     "name": "stdout",
     "output_type": "stream",
     "text": [
      "<class 'str'>\n"
     ]
    }
   ],
   "source": [
    "print(type(\"100\"))"
   ]
  },
  {
   "cell_type": "markdown",
   "metadata": {},
   "source": [
    "##### Data type conversions"
   ]
  },
  {
   "cell_type": "code",
   "execution_count": 38,
   "metadata": {},
   "outputs": [
    {
     "name": "stdout",
     "output_type": "stream",
     "text": [
      "<class 'str'>\n",
      "<class 'int'>\n"
     ]
    }
   ],
   "source": [
    "excel_cell = \"299182\"\n",
    "print(type(excel_cell))\n",
    "excel_cell = int(excel_cell)\n",
    "print(type(excel_cell))"
   ]
  },
  {
   "cell_type": "code",
   "execution_count": 45,
   "metadata": {},
   "outputs": [
    {
     "name": "stdout",
     "output_type": "stream",
     "text": [
      "100ish\n"
     ]
    }
   ],
   "source": [
    "number = 100\n",
    "print(str(number) + \"ish\")"
   ]
  },
  {
   "cell_type": "markdown",
   "metadata": {},
   "source": [
    "##### Strings have length and an index\n",
    "* The built-in function `len` counts the number of characters in a string\n",
    "* The characters (individual letters, numbers, spaces, etc.) within a string are ordered. For example the strings \"AB\" and \"BA\" are not the same.\n",
    "* Each position in the string is given a number - the first character is `1`, the second character is `2`, and so on. This number representing the position of a character is called an index."
   ]
  },
  {
   "cell_type": "code",
   "execution_count": 49,
   "metadata": {},
   "outputs": [
    {
     "name": "stdout",
     "output_type": "stream",
     "text": [
      "Cushing/Whitney Medical Library\n",
      "31\n"
     ]
    }
   ],
   "source": [
    "print(library) # let's refer to a string variable we created previously\n",
    "print(len(library))"
   ]
  },
  {
   "cell_type": "markdown",
   "metadata": {},
   "source": [
    "Of the 31 characters that make up our string, `C` should be the first one. We can check this. In C based programming languages like Python, index counting starts from 0."
   ]
  },
  {
   "cell_type": "code",
   "execution_count": 50,
   "metadata": {},
   "outputs": [
    {
     "name": "stdout",
     "output_type": "stream",
     "text": [
      "C\n"
     ]
    }
   ],
   "source": [
    "print(library[0])"
   ]
  },
  {
   "cell_type": "markdown",
   "metadata": {},
   "source": [
    "##### Use slicing to parse out a substring\n",
    "* A part of a string is called a substring. A substring can be as short as a single character.\n",
    "* An item in a list is called an element. Whenever we treat a string as a list, the string's elements are its individual characters. \n",
    "* We take a slice of a string or list using `[start:stop]`, where `start` is replaced with the index of the first element we want and `stop` is replaced by the index of the element just after the last element we want.\n",
    "* Slicing does not change the contents of the original string. The slice is a copy of part of the original string."
   ]
  },
  {
   "cell_type": "code",
   "execution_count": 60,
   "metadata": {},
   "outputs": [
    {
     "name": "stdout",
     "output_type": "stream",
     "text": [
      "Cushing/Whitney Medical Library\n",
      "Medical\n",
      "Library\n"
     ]
    }
   ],
   "source": [
    "print(library)\n",
    "print(library[16:23])\n",
    "print(library[24:31])"
   ]
  },
  {
   "cell_type": "markdown",
   "metadata": {},
   "source": [
    "### <font color = green> Break here for 10 minutes to complete exercises.</font>"
   ]
  },
  {
   "cell_type": "markdown",
   "metadata": {},
   "source": [
    "# Functions and Finding Help in Python\n",
    "* Different functions may take 0 or 1, or many arguments.\n",
    "* Functions are likely to be specific about the data type they need.\n",
    "* Functions may have default values for some arguments.\n",
    "* You can learn about functions using a `help` function.\n",
    "* Python has built-in functions, as well as many other functions that are associated with external packages. \n",
    "* You can create your own functions in Python. "
   ]
  },
  {
   "cell_type": "markdown",
   "metadata": {},
   "source": [
    "##### Functions might be able to take multiple items"
   ]
  },
  {
   "cell_type": "code",
   "execution_count": 71,
   "metadata": {},
   "outputs": [
    {
     "name": "stdout",
     "output_type": "stream",
     "text": [
      "39228\n",
      "2039\n"
     ]
    }
   ],
   "source": [
    "print(max(2039, 39228, 3948, 10029))\n",
    "print(min(2039, 39228, 3948, 10029))"
   ]
  },
  {
   "cell_type": "markdown",
   "metadata": {},
   "source": [
    "##### Functions might have default settings"
   ]
  },
  {
   "cell_type": "code",
   "execution_count": 2,
   "metadata": {},
   "outputs": [
    {
     "name": "stdout",
     "output_type": "stream",
     "text": [
      "4\n",
      "3.7\n"
     ]
    }
   ],
   "source": [
    "print(round(3.712))\n",
    "print(round(3.712, 1))"
   ]
  },
  {
   "cell_type": "markdown",
   "metadata": {},
   "source": [
    "##### Finding more information about a function"
   ]
  },
  {
   "cell_type": "code",
   "execution_count": 3,
   "metadata": {},
   "outputs": [
    {
     "name": "stdout",
     "output_type": "stream",
     "text": [
      "Help on built-in function round in module builtins:\n",
      "\n",
      "round(number, ndigits=None)\n",
      "    Round a number to a given precision in decimal digits.\n",
      "    \n",
      "    The return value is an integer if ndigits is omitted or None.  Otherwise\n",
      "    the return value has the same type as the number.  ndigits may be negative.\n",
      "\n"
     ]
    }
   ],
   "source": [
    "help(round)"
   ]
  },
  {
   "cell_type": "markdown",
   "metadata": {},
   "source": [
    "##### Access more functions by importing external libraries into a project\n",
    "\n",
    "We will discuss libraries further in a later section, but this is how you add or import a library (i.e., package) into a python project. \n",
    "* Libraries are installed once per your machine, but they need to be imported into each project you would like to use them in. \n",
    "* In order to use functions from a specific package, you need to indicate which package the function is coming from using the syntax: library_name.function_name()\n",
    "    * E.g., statistics.mode()"
   ]
  },
  {
   "cell_type": "code",
   "execution_count": 6,
   "metadata": {},
   "outputs": [
    {
     "name": "stdout",
     "output_type": "stream",
     "text": [
      "3\n"
     ]
    }
   ],
   "source": [
    "import statistics\n",
    "n = [1, 1, 2, 3, 3, 3, 3]\n",
    "s = statistics.mode(n)\n",
    "print(s)"
   ]
  },
  {
   "cell_type": "markdown",
   "metadata": {},
   "source": [
    "# Lists\n",
    "* Doing calculations with a hundred variables called `patient_001`, `patient_002`, `patient_003`, etc., would be very slow and tedious. However, if all of these patients were in a list, you can perform calculations across each item in the list in an automated way.\n",
    "* Lists store multiple values.\n",
    "* Items in a list are stored between hard brackets `[]`.\n",
    "* Values in lists are separated by commas `,`. \n",
    "\n",
    "##### Creating and returning list contents"
   ]
  },
  {
   "cell_type": "code",
   "execution_count": 77,
   "metadata": {},
   "outputs": [
    {
     "name": "stdout",
     "output_type": "stream",
     "text": [
      "Weights in list: [157, 180, 166, 150, 183, 160]\n",
      "Length of weights list: 6\n"
     ]
    }
   ],
   "source": [
    "weights = [157, 180, 166, 150, 183, 160]\n",
    "print(\"Weights in list:\", weights)\n",
    "print(\"Length of weights list:\", len(weights))"
   ]
  },
  {
   "cell_type": "markdown",
   "metadata": {},
   "source": [
    "##### Use an index to return a specific element from a list\n",
    "\n"
   ]
  },
  {
   "cell_type": "code",
   "execution_count": 79,
   "metadata": {},
   "outputs": [
    {
     "name": "stdout",
     "output_type": "stream",
     "text": [
      "First item in list: 157\n"
     ]
    }
   ],
   "source": [
    "print('First item in list:', weights[0])"
   ]
  },
  {
   "cell_type": "markdown",
   "metadata": {},
   "source": [
    "##### Use an index to replace an item in a list"
   ]
  },
  {
   "cell_type": "code",
   "execution_count": 80,
   "metadata": {},
   "outputs": [
    {
     "name": "stdout",
     "output_type": "stream",
     "text": [
      "Weights list is now: [156, 180, 166, 150, 183, 160]\n"
     ]
    }
   ],
   "source": [
    "weights[0] = 156\n",
    "print('Weights list is now:', weights)"
   ]
  },
  {
   "cell_type": "markdown",
   "metadata": {},
   "source": [
    "##### Adding (i.e. appending) items to a list\n",
    "* `append` is a \"method\" of list. Methods are like functions, but tied to a particular object.\n",
    "* Use `object_name.method_name` to call methods.\n",
    "* You can find the methods that object have associated with them by running the `help` function on the object name (eg, `help(list)`)"
   ]
  },
  {
   "cell_type": "code",
   "execution_count": 8,
   "metadata": {},
   "outputs": [
    {
     "name": "stdout",
     "output_type": "stream",
     "text": [
      "Original list: ['Elo', 'Molly', 'Charlie', 'Riley']\n",
      "List after append ['Elo', 'Molly', 'Charlie', 'Riley', 'Ben', 'Charolette']\n"
     ]
    }
   ],
   "source": [
    "names = [\"Elo\", \"Molly\", \"Charlie\", \"Riley\"]\n",
    "print(\"Original list:\", names)\n",
    "names.append(\"Ben\")\n",
    "names.append(\"Charolette\")\n",
    "print(\"List after append\", names)"
   ]
  },
  {
   "cell_type": "markdown",
   "metadata": {},
   "source": [
    "##### Combining lists together\n",
    "* You can combine lists together with another list method called `extend`"
   ]
  },
  {
   "cell_type": "code",
   "execution_count": 9,
   "metadata": {},
   "outputs": [
    {
     "name": "stdout",
     "output_type": "stream",
     "text": [
      "['Elo', 'Molly', 'Charlie', 'Riley', 'Ben', 'Charolette']\n"
     ]
    }
   ],
   "source": [
    "names_1 = [\"Elo\", \"Molly\", \"Charlie\", \"Riley\"]\n",
    "names_2 = [\"Ben\", \"Charolette\"]\n",
    "names_1.extend(names_2)\n",
    "print(names_1)"
   ]
  },
  {
   "cell_type": "markdown",
   "metadata": {},
   "source": [
    "### <font color = green> Break here for 10 minutes to complete the exercises in Part 3: Functions and Lists.</font>"
   ]
  },
  {
   "cell_type": "markdown",
   "metadata": {},
   "source": [
    "# For Loops\n",
    "* For loops allow you to drill down into a data structure.\n",
    "    * Operate on sentence in a paragraph, each word in a sentence, or each character in a word.\n",
    "    * Operate on each table in a database, each column in a spreadsheet, or each cell in a column. \n",
    "    * Operate on each item in a list.\n",
    "* A for loop executes commands once for each element in a set."
   ]
  },
  {
   "cell_type": "code",
   "execution_count": 10,
   "metadata": {},
   "outputs": [
    {
     "name": "stdout",
     "output_type": "stream",
     "text": [
      "2\n",
      "3\n",
      "5\n"
     ]
    }
   ],
   "source": [
    "for number in [2, 3, 5]:\n",
    "    print(number) #indentations in python are important!"
   ]
  },
  {
   "cell_type": "markdown",
   "metadata": {},
   "source": [
    "##### You can also return items in a list that has been stored as a variable"
   ]
  },
  {
   "cell_type": "code",
   "execution_count": 11,
   "metadata": {
    "scrolled": true
   },
   "outputs": [
    {
     "name": "stdout",
     "output_type": "stream",
     "text": [
      "First name: Elo\n",
      "First name: Molly\n",
      "First name: Charlie\n",
      "First name: Riley\n",
      "First name: Ben\n",
      "First name: Charolette\n"
     ]
    }
   ],
   "source": [
    "for name in names_1:\n",
    "    print('First name:', name)"
   ]
  },
  {
   "cell_type": "markdown",
   "metadata": {},
   "source": [
    "##### The body of a loop can contain many statements"
   ]
  },
  {
   "cell_type": "code",
   "execution_count": 12,
   "metadata": {},
   "outputs": [
    {
     "name": "stdout",
     "output_type": "stream",
     "text": [
      "2 102 -2\n",
      "3 103 -3\n",
      "5 105 -5\n"
     ]
    }
   ],
   "source": [
    "prime_numbers = [2, 3, 5]\n",
    "for p in prime_numbers:\n",
    "    first_equation = p + 100\n",
    "    second_equation = p * -1\n",
    "    print(p, first_equation, second_equation)"
   ]
  },
  {
   "cell_type": "markdown",
   "metadata": {},
   "source": [
    "### <font color = green> Break here for 10 minutes to complete the exercises in Part 4: For Loops.</font>"
   ]
  },
  {
   "cell_type": "markdown",
   "metadata": {},
   "source": [
    "# Python Libraries \n",
    "* A \"library\" in python is a collection of files (called modules) that contain functions for use by other programs.\n",
    "* A Python program must import a library in order to use it. You will use `import` to do this.\n",
    "* Refer to items from specific libraries as library_name.item_name.\n",
    "    * Python uses `.` to mean \"part of\"\n",
    "* Use the `help` function to learn about the contents of a library module."
   ]
  },
  {
   "cell_type": "markdown",
   "metadata": {},
   "source": [
    "# Pandas, a Python Library\n",
    "* Pandas is a widely-used Python library for statistics, particularly on tabular data.\n",
    "* Pandas borrows many features from R’s dataframes.\n",
    "    * A 2-dimensional table whose columns have names and potentially have different data types.\n",
    "* Load it with import pandas as pd. The alias pd is commonly used for Pandas. Shortning pandas to pd this saves typing time. \n",
    "\n",
    "##### Import the Pandas library to this project"
   ]
  },
  {
   "cell_type": "code",
   "execution_count": 92,
   "metadata": {},
   "outputs": [],
   "source": [
    "import pandas as pd"
   ]
  },
  {
   "cell_type": "markdown",
   "metadata": {},
   "source": [
    "##### Read a Comma Separate Values (CSV) data file with pd.read_csv.\n",
    "* This imports the csv into your project and saves it as a variable called data.\n",
    "* As you work with `data`, you are not altering the original CSV file. "
   ]
  },
  {
   "cell_type": "code",
   "execution_count": null,
   "metadata": {},
   "outputs": [],
   "source": [
    "data = pd.read_csv()\n",
    "print(data)"
   ]
  },
  {
   "cell_type": "code",
   "execution_count": null,
   "metadata": {},
   "outputs": [],
   "source": []
  },
  {
   "cell_type": "code",
   "execution_count": null,
   "metadata": {},
   "outputs": [],
   "source": []
  },
  {
   "cell_type": "markdown",
   "metadata": {},
   "source": [
    "# DataFrames"
   ]
  },
  {
   "cell_type": "markdown",
   "metadata": {},
   "source": [
    "# Conditional Statements"
   ]
  },
  {
   "cell_type": "markdown",
   "metadata": {},
   "source": [
    "# Looping Over Datasets (Lists)"
   ]
  },
  {
   "cell_type": "markdown",
   "metadata": {},
   "source": [
    "# Applying Conditional Statements to Datasets (Dataframes)"
   ]
  }
 ],
 "metadata": {
  "kernelspec": {
   "display_name": "Python 3",
   "language": "python",
   "name": "python3"
  },
  "language_info": {
   "codemirror_mode": {
    "name": "ipython",
    "version": 3
   },
   "file_extension": ".py",
   "mimetype": "text/x-python",
   "name": "python",
   "nbconvert_exporter": "python",
   "pygments_lexer": "ipython3",
   "version": "3.7.1"
  }
 },
 "nbformat": 4,
 "nbformat_minor": 2
}
